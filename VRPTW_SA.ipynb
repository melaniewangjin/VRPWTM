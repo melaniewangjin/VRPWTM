{
 "cells": [
  {
   "cell_type": "code",
   "execution_count": 55,
   "id": "77af16f9",
   "metadata": {},
   "outputs": [],
   "source": [
    "import random\n",
    "import numpy as np\n",
    "import tqdm \n",
    "import copy\n",
    "from tqdm import tqdm\n",
    "import matplotlib.pyplot as plt\n",
    "import re\n",
    "\n",
    "capacity = 200\n",
    "temperature = 1000 \n",
    "alpha = 0.99 # cooling hyperparameter\n",
    "HUGE = 999999\n",
    "early_unit_cost = 0\n",
    "late_unit_cost = HUGE\n",
    "\n",
    "best_sol = None\n",
    "\n",
    "\n",
    "class Node:\n",
    "    def __init__(self):\n",
    "        self.name = None\n",
    "        self.x = None\n",
    "        self.y = None\n",
    "        self.demand = None\n",
    "        self.ready = None\n",
    "        self.due = None\n",
    "        self.service = None\n",
    "\n",
    "\n",
    "class Sol:\n",
    "    def __init__(self):\n",
    "        self.path = []\n",
    "        self.node = []\n",
    "        self.cost=None\n",
    "\n",
    "def read_data():\n",
    "    sol = Sol()\n",
    "    file_path = 'c101.txt'\n",
    "    data = open(file_path, 'r')\n",
    "\n",
    "    lines = data.readlines() \n",
    "    lines = lines[9:35] \n",
    "    \n",
    "    for line in lines:\n",
    "        elements = re.findall('[0-9]+',line)\n",
    "        node = Node()\n",
    "        node.name = int(elements[0])\n",
    "        node.x = int(elements[1])\n",
    "        node.y = int(elements[2])\n",
    "        node.demand = int(elements[3])\n",
    "        node.ready = int(elements[4])\n",
    "        node.due = int(elements[5])\n",
    "        node.service = int(elements[6])\n",
    "        sol.node.append(node)\n",
    " \n",
    "    return sol"
   ]
  },
  {
   "cell_type": "code",
   "execution_count": 56,
   "id": "f6bfa1d5",
   "metadata": {},
   "outputs": [],
   "source": [
    "def init_code(sol):\n",
    "    sol.path = sol.node[1:]\n",
    "    random.shuffle(sol.path) # random shuffle customers\n",
    "    sum_demand = 0\n",
    "    cur_path = []\n",
    "    for i in range(len(sol.path)): \n",
    "        sum_demand += sol.path[i].demand # only consider weight\n",
    "        if sum_demand > capacity: # if exceed capacity, add depot 0& start new route\n",
    "            cur_path.append(sol.node[0]) \n",
    "            sum_demand=sol.path[i].demand\n",
    "        cur_path.append(sol.path[i])\n",
    "    sol.path=cur_path\n",
    "    sol.path.append(sol.node[0]) # add depot 0 at the end\n",
    "    sol.path.insert(0,sol.node[0]) # add depot 0 at the begining\n",
    "\n",
    "\n",
    "\n",
    "def get_distance(x1, y1, x2, y2):\n",
    "    return np.hypot(x1 - x2, y1 - y2)\n",
    "\n",
    "\n",
    "def get_cost(sol):\n",
    "    total_cost=0\n",
    "    distance_cost=0\n",
    "    early_cost=0\n",
    "    late_cost=0\n",
    "    sum_demand=0\n",
    "    now_time=0\n",
    "    for i in range(len(sol.path)): # for each point\n",
    "        if i==0: # beginning depot\n",
    "            continue\n",
    "        # distance cost\n",
    "        distance=get_distance(sol.path[i-1].x,sol.path[i-1].y,sol.path[i].x,sol.path[i].y)\n",
    "        distance_cost+=distance\n",
    "        now_time+=distance # update now time\n",
    "        sum_demand+=sol.path[i].demand # update load\n",
    "        if sum_demand>capacity: # load cost = 999999\n",
    "            total_cost+=HUGE\n",
    "        if now_time<sol.path[i].ready: # early cost = 0\n",
    "            early_cost+=(sol.path[i].ready-now_time)* early_unit_cost #0\n",
    "            now_time=sol.path[i].ready # update now time\n",
    "            \n",
    "        if now_time>sol.path[i].due: # late cost = 999999\n",
    "            late_cost += (now_time-sol.path[i].due) * late_unit_cost\n",
    "        now_time+=sol.path[i].service # update now time\n",
    "        \n",
    "        if sol.path[i].name==0:# new route: then reset now time&load\n",
    "            now_time=0 \n",
    "            sum_demand=0\n",
    "    total_cost+=distance_cost+early_cost+late_cost\n",
    "    sol.cost=total_cost\n",
    "    \n",
    "    return total_cost\n",
    "\n",
    "        \n",
    "def change(sol): # change two node\n",
    "    pos1 = random.randint(1,len(sol.path)-2)\n",
    "    pos2 = random.randint(1,len(sol.path)-2)\n",
    "    sol.path[pos1], sol.path[pos2] = sol.path[pos2], sol.path[pos1] \n",
    "\n",
    "def local_search(sol):\n",
    "    global best_sol \n",
    "    temp_sol = copy.deepcopy(sol) # create placeholder\n",
    "    temp2_sol = copy.deepcopy(sol) \n",
    "    for i in range(10): # inside loop\n",
    "        change(temp2_sol)\n",
    "        # record current best in 10 loop\n",
    "        if get_cost(temp2_sol)<get_cost(temp_sol): \n",
    "            temp_sol = copy.deepcopy(temp2_sol) \n",
    "    \n",
    "    c1 = get_cost(temp_sol) # best cost in 10 loops\n",
    "    c2 = get_cost(sol) # cost of initial sol\n",
    "    if c1<c2: # update initial sol\n",
    "        if c1<best_sol.cost: # update best_sol \n",
    "            best_sol = temp_sol\n",
    "        sol = temp_sol\n",
    "    else: # if temperature allows, still update initial sol\n",
    "        if np.exp((c2-c1)/temperature) > random.random(): \n",
    "            sol = temp_sol\n",
    "            \n",
    "    return sol\n",
    "        \n",
    "                                                                                                                                                                                                                                                                                                                                                                                                                                                                                                                                                                                                                                                                                                                                                                                                                                                                                                                                                                                                                                                                                                                                                                                                                                                                                                                                                                                                                                                                                                                                                                                                                                                                                                                                                                                                                                                                                                                                                                                                                                                                                                                                                                                                                                                                                                                                                                                                                                                                                                                                                                                                                                                                                                                                                                                                                                                                                                                                                                                                                                                                                                                                                                                                                                                                                                                                                                                                                                                                                                                                                                                                                                                                                                                                                                                                                                                                                                                                                                                                                                                                                                                                                                                                                                                                                                                                                                                                                                                                                                                                                                                                                                                                                                                                                                                                                                                                                                                                          \n",
    "        \n",
    "\n",
    "\n",
    "def plot(sol):\n",
    "    temp_path_x=[sol.path[0].x]\n",
    "    temp_path_y=[sol.path[0].y]\n",
    "    for i in range(len(sol.path)):\n",
    "        if i==0:\n",
    "            continue\n",
    "        temp_path_x.append(sol.path[i].x)\n",
    "        temp_path_y.append(sol.path[i].y)\n",
    "        if sol.path[i].name==0:\n",
    "            plt.plot(temp_path_x,temp_path_y)\n",
    "            temp_path_x=[sol.path[i].x]\n",
    "            temp_path_y=[sol.path[i].y]\n",
    "    plt.show()\n",
    "        "
   ]
  },
  {
   "cell_type": "code",
   "execution_count": 74,
   "id": "69ba2ea5",
   "metadata": {},
   "outputs": [
    {
     "name": "stdout",
     "output_type": "stream",
     "text": [
      "20986437532.825382\n"
     ]
    },
    {
     "name": "stderr",
     "output_type": "stream",
     "text": [
      "100%|██████████████████████████████████████| 2000/2000 [00:05<00:00, 394.13it/s]\n"
     ]
    },
    {
     "data": {
      "text/plain": [
       "[<matplotlib.lines.Line2D at 0x7fdd6ae93310>]"
      ]
     },
     "execution_count": 74,
     "metadata": {},
     "output_type": "execute_result"
    },
    {
     "data": {
      "image/png": "[encoded data removed]",
      "text/plain": [
       "<Figure size 432x288 with 1 Axes>"
      ]
     },
     "metadata": {
      "needs_background": "light"
     },
     "output_type": "display_data"
    }
   ],
   "source": [
    "sol = read_data()\n",
    "init_code(sol)\n",
    "print(get_cost(sol))\n",
    "best_sol= copy.deepcopy(sol)\n",
    "\n",
    "\n",
    "cost =[]\n",
    "for i in tqdm(range(2000)):\n",
    "    sol = local_search(sol)\n",
    "    cost.append(sol.cost)\n",
    "    temperature = alpha*temperature # cooling\n",
    "\n",
    "\n",
    "plt.plot(cost)"
   ]
  },
  {
   "cell_type": "code",
   "execution_count": 75,
   "id": "14904b82",
   "metadata": {
    "scrolled": false
   },
   "outputs": [
    {
     "data": {
      "image/png": "[encoded data removed]",
      "text/plain": [
       "<Figure size 432x288 with 1 Axes>"
      ]
     },
     "metadata": {
      "needs_background": "light"
     },
     "output_type": "display_data"
    },
    {
     "name": "stdout",
     "output_type": "stream",
     "text": [
      "[0, 20, 24, 25, 16, 14, 12, 2, 1, 0, 13, 17, 18, 19, 15, 23, 22, 21, 0, 5, 3, 7, 8, 10, 11, 9, 6, 4, 0]\n"
     ]
    },
    {
     "data": {
      "text/plain": [
       "243.6227805963989"
      ]
     },
     "execution_count": 75,
     "metadata": {},
     "output_type": "execute_result"
    }
   ],
   "source": [
    "plot(best_sol)\n",
    "\n",
    "print([best_sol.path[i].name for i in range(len(best_sol.path))])\n",
    "\n",
    "best_sol.cost"
   ]
  }
 ],
 "metadata": {
  "kernelspec": {
   "display_name": "Python 3 (ipykernel)",
   "language": "python",
   "name": "python3"
  },
  "language_info": {
   "codemirror_mode": {
    "name": "ipython",
    "version": 3
   },
   "file_extension": ".py",
   "mimetype": "text/x-python",
   "name": "python",
   "nbconvert_exporter": "python",
   "pygments_lexer": "ipython3",
   "version": "3.9.12"
  }
 },
 "nbformat": 4,
 "nbformat_minor": 5
}
