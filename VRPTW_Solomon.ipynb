{
 "cells": [
  {
   "cell_type": "markdown",
   "id": "69d4ce55",
   "metadata": {},
   "source": [
    "# solomon insertation (i)"
   ]
  },
  {
   "cell_type": "code",
   "execution_count": 1,
   "id": "dad54fe6",
   "metadata": {},
   "outputs": [],
   "source": [
    "import numpy as np\n",
    "import pandas as pd\n",
    "import time\n",
    "import math\n",
    "import random"
   ]
  },
  {
   "cell_type": "code",
   "execution_count": 2,
   "id": "7564c9e9",
   "metadata": {},
   "outputs": [
    {
     "name": "stdout",
     "output_type": "stream",
     "text": [
      "Fri Jan  6 18:11:40 2023\n"
     ]
    }
   ],
   "source": [
    "print(time.ctime())"
   ]
  },
  {
   "cell_type": "code",
   "execution_count": 3,
   "id": "2fc0c7bb",
   "metadata": {},
   "outputs": [],
   "source": [
    "class Node:\n",
    "    def __init__(self, index, lat, long, demand,begin_time,end_time,serv_time):\n",
    "        self.index = index\n",
    "        self.demand = demand\n",
    "        self.serv_time = serv_time\n",
    "        self.begin_time = begin_time\n",
    "        self.end_time = end_time\n",
    "        self.lat = lat\n",
    "        self.long = long\n",
    "        self.route = 99\n",
    "\n",
    "    def __index__(self):\n",
    "        return self.index\n",
    "\n",
    "    def __hash__(self):\n",
    "        return self.index\n",
    "\n",
    "    def __repr__(self):\n",
    "        return f\"Customer <{self.index}>\""
   ]
  },
  {
   "cell_type": "code",
   "execution_count": 4,
   "id": "123cdb3a",
   "metadata": {},
   "outputs": [],
   "source": [
    "class RouteType:\n",
    "    def __init__(self):\n",
    "        self.load = 0  # 单条路径载重\n",
    "        self.sub_t = 0  # 单条路径违反各节点时间窗约束时长总和\n",
    "        self.dis = 0  # 单条路径总长度\n",
    "        self.v = []  # 单条路径顾客节点序列"
   ]
  },
  {
   "cell_type": "code",
   "execution_count": 5,
   "id": "4ad7cf0f",
   "metadata": {},
   "outputs": [],
   "source": [
    "def calDistance(Customer):\n",
    "    ''' \n",
    "    计算城市间距离\n",
    "    输入：CityCoordinates-城市坐标；\n",
    "    输出：城市间距离矩阵-dis_matrix\n",
    "    '''\n",
    "    t =len(Customer)\n",
    "    dis_matrix = np.zeros([t,t])\n",
    "    for i in range(t):\n",
    "        xi,yi = Customer[i].lat,Customer[i].long\n",
    "        for j in range(t):\n",
    "            xj,yj = Customer[j].lat,Customer[j].long\n",
    "            dis_matrix[i,j] = round(math.sqrt((xi-xj)**2+(yi-yj)**2),2)\n",
    "    return dis_matrix"
   ]
  },
  {
   "cell_type": "code",
   "execution_count": 6,
   "id": "4aa6e334",
   "metadata": {},
   "outputs": [],
   "source": [
    "# 计算每个点开始服务的时间\n",
    "def begin_time(nodes,line): # \n",
    "    b = np.zeros(len(nodes)) \n",
    "    for i in range(len(line)):\n",
    "        client = int(line[i])\n",
    "        if i == 0: # 最后b[0] 是回到depot的时间\n",
    "            continue\n",
    "        else:\n",
    "            # 考虑开始时间\n",
    "            p_client = int(line[i-1]) # 上一个customer\n",
    "            b[client]=max(b[p_client]+ dis_matrix[p_client,client]+nodes[p_client].serv_time,nodes[client].begin_time)\n",
    "            # 不考虑开始时间\n",
    "#             b[client]=b[client-1]+ dis_matrix[client-1,client]+nodes[client].serv_time\n",
    "    return b"
   ]
  },
  {
   "cell_type": "code",
   "execution_count": 7,
   "id": "f717c21a",
   "metadata": {},
   "outputs": [],
   "source": [
    "# 车辆初始化函数 criteria 1 选距离最远的客户\n",
    "def first_customer(depot_dis):\n",
    "    customer_new = np.argmax(depot_dis) \n",
    "#     t_min = np.argmin(endtime) \n",
    "    return customer_new"
   ]
  },
  {
   "cell_type": "code",
   "execution_count": 8,
   "id": "7e74fd85",
   "metadata": {},
   "outputs": [],
   "source": [
    "# 车辆初始化函数 criteria 2 # 结束时间最早的客户\n",
    "def first_customer_urgence(nodes):\n",
    "    unrouted_c = list(range(len(nodes)))\n",
    "    for i in range(len(nodes)):\n",
    "        if nodes[i].route != 99:\n",
    "            unrouted_c.remove(i)\n",
    "    customer_new = np.argmin(endtime) \n",
    "    return customer_new"
   ]
  },
  {
   "cell_type": "code",
   "execution_count": 9,
   "id": "de95aa76",
   "metadata": {},
   "outputs": [],
   "source": [
    "# 车辆更新逻辑\n",
    "def update_line(car,line,d,nodes,capacity): # 车辆，初始路径，初始重量，客户\n",
    "    a1,a2=0.5,0.5\n",
    "    c_2 = np.zeros(len(nodes))\n",
    "    next_lines = {}\n",
    "\n",
    "    for u in range(1,len(nodes)) : #每个客户 去掉0:depot  \n",
    "        if (nodes[u].route == 99) and (nodes[u].demand + d <= capacity): \n",
    "            # 如果客户没有分配 且# 当前路径总重量+客户重量<=capacity \n",
    "            route = []\n",
    "            c_11 = np.zeros(len(line)-1)\n",
    "            c_12 = np.zeros(len(line)-1)\n",
    "            c_1 = np.zeros(len(line)-1)\n",
    "            b0 = begin_time(nodes,line)\n",
    "            for i in range(len(line)-1): # 算每个客户插到当前路径不同位置的c1\n",
    "                # 把u插入line[i]和line[i+1]之间\n",
    "                l = list(line)\n",
    "                l.insert(i+1,u)\n",
    "                b1 = begin_time(nodes,l)\n",
    "                if all(b1 <= endtime): # 满足结束时间 (b < 结束时间矩阵) 才把路径加入备选项\n",
    "                    c_11[i] = dis_matrix[line[i]][u]+dis_matrix[u][line[i+1]]-dis_matrix[line[i]][line[i+1]]\n",
    "                    c_12[i] = b1[i+1]-b0[i+1]\n",
    "                    c_1[i] = a1*c_11[i]+a2*c_12[i]\n",
    "                else:\n",
    "                    c_1[i] = 10000\n",
    "                route.append(tuple(l))\n",
    "            if route: # 如果route不是空list，选c1最小的路径，求每个customer的c2\n",
    "                Broute = route[np.argmin(c_1)] # best route for u \n",
    "                next_lines[u]=Broute\n",
    "                c_2[u] =dis_matrix[0][u] -min(c_1)\n",
    "    if (next_lines) and (max(c_2) > 0): \n",
    "        next_line = next_lines[np.argmax(c_2)] # 如果不为空更新路线\n",
    "        for i in next_line:\n",
    "            depot_dis[i] = 0 # 这个一直记录 把所有分配过的点都改成0 \n",
    "            nodes[i].route = car  # 改变车的路径\n",
    "        d += nodes[np.argmax(c_2)].demand\n",
    "    else :\n",
    "        next_line = line \n",
    "    return next_line,d"
   ]
  },
  {
   "cell_type": "code",
   "execution_count": 10,
   "id": "2775ca96",
   "metadata": {},
   "outputs": [],
   "source": [
    "# 读取数据\n",
    "import re\n",
    "with open('c101.txt', 'r') as f: \n",
    "    # Read all the lines of the file into a list \n",
    "    lines = f.readlines() \n",
    "    \n",
    "    params = re.findall('[0-9]+',lines[4]) # 车辆数和capacity\n",
    "    vehicleNumber = int(params[0])\n",
    "    capacity = int(params[1])\n",
    "    # Skip the first 9 line \n",
    "    lines = lines[9:] \n",
    " \n",
    "    # Iterate over the remaining lines \n",
    "    nodes= []\n",
    "    for line in lines: \n",
    "        elements = re.findall('[0-9]+',line)\n",
    "        nodes.append(Node(int(elements[0]), int(elements[1]),int(elements[2]),int(elements[3]), int(elements[4]),int(elements[5]),int(elements[6])))\n",
    "# 车辆数和capacity"
   ]
  },
  {
   "cell_type": "code",
   "execution_count": 11,
   "id": "30c5313c",
   "metadata": {},
   "outputs": [],
   "source": [
    "# 先从25个客户开始 第一个是depot\n",
    "sub_nodes = nodes[:26]"
   ]
  },
  {
   "cell_type": "code",
   "execution_count": 12,
   "id": "5beb9438",
   "metadata": {},
   "outputs": [
    {
     "data": {
      "text/plain": [
       "array([1236.,  967.,  870.,  146.,  782.,   67.,  702.,  225.,  324.,\n",
       "        605.,  410.,  505.,  721.,   92.,  620.,  429.,  528.,  148.,\n",
       "        254.,  345.,   73.,  965.,  883.,  777.,  144.,  224.])"
      ]
     },
     "execution_count": 12,
     "metadata": {},
     "output_type": "execute_result"
    }
   ],
   "source": [
    "# 结束时间\n",
    "endtime = np.zeros(26)\n",
    "for i in range(26):\n",
    "    endtime[i] = sub_nodes[i].end_time\n",
    "endtime"
   ]
  },
  {
   "cell_type": "code",
   "execution_count": 13,
   "id": "bf225c69",
   "metadata": {},
   "outputs": [],
   "source": [
    "# 距离矩阵\n",
    "dis_matrix = calDistance(sub_nodes)"
   ]
  },
  {
   "cell_type": "code",
   "execution_count": 14,
   "id": "ef11c563",
   "metadata": {},
   "outputs": [
    {
     "data": {
      "text/plain": [
       "array([ 0.  , 18.68, 20.62, 16.12, 18.11, 15.13, 19.  , 16.  , 18.11,\n",
       "       20.1 , 16.76, 19.65, 38.08, 30.81, 39.36, 36.06, 40.31, 33.3 ,\n",
       "       35.36, 39.05, 10.  , 10.2 , 12.17, 13.  , 15.  , 15.13])"
      ]
     },
     "execution_count": 14,
     "metadata": {},
     "output_type": "execute_result"
    }
   ],
   "source": [
    "# depot到各个customer的时间 初始化\n",
    "depot_dis = dis_matrix[0].copy()\n",
    "depot_dis"
   ]
  },
  {
   "cell_type": "code",
   "execution_count": 15,
   "id": "219b2d17",
   "metadata": {},
   "outputs": [],
   "source": [
    "# 初始化路径\n",
    "import copy\n",
    "\n",
    "routes = []\n",
    "for i in range(vehicleNumber):\n",
    "    # 给每一条路径赋初始起点与虚拟终点\n",
    "    routes.append(RouteType())\n",
    "    routes[i].v.append(copy.deepcopy(nodes[0]))\n",
    "    routes[i].v.append(copy.deepcopy(nodes[0]))\n",
    "#     routes[i].v[0].end = routes[i].v[0].begin\n",
    "#     routes[i].v[1].begin = routes[i].v[1].end\n",
    "    # 算例中给出节点0有起始时间0和终止时间，所以如上赋值。\n",
    "    routes[i].load = 0"
   ]
  },
  {
   "cell_type": "code",
   "execution_count": 16,
   "id": "cd3d954b",
   "metadata": {},
   "outputs": [],
   "source": [
    "# 主代码\n",
    "car=0  \n",
    "i = 0\n",
    "while i < 25 : #  客户没有分配 max(i.route for i in sub_nodes) == 99 #np.sum(depot_dis) > 0 \n",
    "#     print(i,routes[car].load)\n",
    "    if routes[car].load  > 0 :\n",
    "        old_len = len(line)\n",
    "        line,d= update_line(car=car,line=line,d=d,nodes=sub_nodes,capacity=capacity)\n",
    "        new_len = len(line)\n",
    "        routes[car].load = d\n",
    "        routes[car].v = []\n",
    "        for c in line : \n",
    "            routes[car].v.append(nodes[c])\n",
    "        if d >= 200 :\n",
    "            # 清空一下路径\n",
    "            car +=1 # 一辆车结束后 车号更新\n",
    "        elif old_len == new_len:\n",
    "            car +=1 # 一辆车结束后 车号更新\n",
    "            initial_c = first_customer(depot_dis)\n",
    "            routes[car].v.insert(1,sub_nodes[initial_c]) # 在中间插入选中的客户\n",
    "            depot_dis[initial_c]=0 # 把客户的距离改成0 初始时不会在选到这个客户\n",
    "            line=[]\n",
    "            for c in routes[car].v:\n",
    "                c.route = car  # 改变车的路径\n",
    "                line.append(c.index) # 改一下初始路径的格式\n",
    "            d = sub_nodes[initial_c].demand #初始路径demand\n",
    "            routes[car].load = d \n",
    "    else :\n",
    "#         print(\"新车\")\n",
    "        initial_c = first_customer(depot_dis)\n",
    "        routes[car].v.insert(1,sub_nodes[initial_c]) # 在中间插入选中的客户\n",
    "        depot_dis[initial_c]=0 # 把客户的距离改成0 初始时不会在选到这个客户\n",
    "        line=[]\n",
    "        for c in routes[car].v:\n",
    "            c.route = car  # 改变车的路径\n",
    "            line.append(c.index) # 改一下初始路径的格式\n",
    "        d = sub_nodes[initial_c].demand #初始路径demand\n",
    "        routes[car].load = d \n",
    "    i +=1\n",
    "#     print(car)\n",
    "#     print(line)\n",
    "#     print(depot_dis)"
   ]
  },
  {
   "cell_type": "markdown",
   "id": "b01fb99d",
   "metadata": {},
   "source": [
    "# 结果"
   ]
  },
  {
   "cell_type": "code",
   "execution_count": 17,
   "id": "2d219ec1",
   "metadata": {},
   "outputs": [
    {
     "name": "stdout",
     "output_type": "stream",
     "text": [
      "0 200\n",
      "[Customer <0>, Customer <13>, Customer <17>, Customer <18>, Customer <19>, Customer <15>, Customer <16>, Customer <14>, Customer <12>, Customer <1>, Customer <0>]\n",
      "1 170\n",
      "[Customer <0>, Customer <5>, Customer <3>, Customer <7>, Customer <8>, Customer <10>, Customer <11>, Customer <9>, Customer <6>, Customer <4>, Customer <2>, Customer <21>, Customer <0>]\n",
      "2 90\n",
      "[Customer <0>, Customer <20>, Customer <24>, Customer <25>, Customer <23>, Customer <22>, Customer <0>]\n",
      "--------------------------------------------------\n",
      "Car used ： 3\n"
     ]
    }
   ],
   "source": [
    "car_n = 0\n",
    "for i in range(20):\n",
    "    if routes[i].load > 0:\n",
    "        car_n += 1\n",
    "        print(i,routes[i].load)\n",
    "        print(routes[i].v)\n",
    "print(\"-\"*50)\n",
    "print('Car used ：',car_n)"
   ]
  },
  {
   "cell_type": "code",
   "execution_count": 18,
   "id": "b4efcd6c",
   "metadata": {},
   "outputs": [
    {
     "name": "stdout",
     "output_type": "stream",
     "text": [
      "Total distance : 211.60000000000002\n"
     ]
    }
   ],
   "source": [
    "# 计算距离\n",
    "distance = 0 \n",
    "d_mat = np.zeros([4,15])\n",
    "b = {}\n",
    "for i in range(4):\n",
    "    line=[]\n",
    "    for c in routes[i].v:\n",
    "        line.append(c.index) \n",
    "    b[i] = begin_time(sub_nodes,line)\n",
    "#     print(b[i])\n",
    "    for j in range(len(routes[i].v)-1):\n",
    "        ci = routes[i].v[j].index\n",
    "        cj = routes[i].v[j+1].index\n",
    "        distance += dis_matrix[ci,cj]\n",
    "        d_mat[i,j] = dis_matrix[ci,cj]\n",
    "#         print(ci,cj,dis_matrix[ci,cj])\n",
    "print('Total distance :',distance)"
   ]
  },
  {
   "cell_type": "code",
   "execution_count": 19,
   "id": "1827b934",
   "metadata": {},
   "outputs": [
    {
     "data": {
      "text/plain": [
       "array([ True,  True,  True,  True,  True,  True,  True,  True,  True,\n",
       "        True,  True,  True,  True,  True,  True,  True,  True,  True,\n",
       "        True,  True,  True,  True,  True,  True,  True,  True])"
      ]
     },
     "execution_count": 19,
     "metadata": {},
     "output_type": "execute_result"
    }
   ],
   "source": [
    "# 检查是否都在结束时间内送到了\n",
    "b_r = pd.DataFrame(b)\n",
    "b_ = b_r.max(axis=1).to_numpy()\n",
    "b_<= endtime"
   ]
  },
  {
   "cell_type": "code",
   "execution_count": 20,
   "id": "4778a0a9",
   "metadata": {},
   "outputs": [],
   "source": [
    "import matplotlib.pyplot as plt\n",
    "def draw_path(routes: RouteType):\n",
    "    # calculate number of routes in current solution\n",
    "    route_num = 0\n",
    "    for i in range(vehicleNumber):\n",
    "        if len(routes[i].v) != 2:\n",
    "            route_num += 1\n",
    "            \n",
    "    for i in range(route_num):\n",
    "        x, y = [],[]\n",
    "        for j in range(len(routes[i].v)):\n",
    "            x.append(routes[i].v[j].lat)\n",
    "            y.append(routes[i].v[j].long)\n",
    "        plt.plot(x, y,'o-', alpha=0.8, linewidth=0.8)\n",
    "    plt.xlabel('x')\n",
    "    plt.ylabel('y')\n",
    "    plt.show()"
   ]
  },
  {
   "cell_type": "code",
   "execution_count": 21,
   "id": "ee79ff62",
   "metadata": {},
   "outputs": [
    {
     "data": {
      "image/png": "[encoded data removed]",
      "text/plain": [
       "<Figure size 432x288 with 1 Axes>"
      ]
     },
     "metadata": {
      "needs_background": "light"
     },
     "output_type": "display_data"
    }
   ],
   "source": [
    "draw_path(routes)"
   ]
  },
  {
   "cell_type": "code",
   "execution_count": 22,
   "id": "3f4e8710",
   "metadata": {},
   "outputs": [
    {
     "name": "stdout",
     "output_type": "stream",
     "text": [
      "2 0 1 1 1 1 1 1 1 1 1 1 0 0 0 0 0 0 0 0 2 1 2 2 2 2 "
     ]
    }
   ],
   "source": [
    "# 检查是否每个用户都送了\n",
    "for i in range(len(sub_nodes)):\n",
    "    print(sub_nodes[i].route,end=\" \")"
   ]
  },
  {
   "cell_type": "code",
   "execution_count": 23,
   "id": "3e2f28c3",
   "metadata": {},
   "outputs": [
    {
     "name": "stdout",
     "output_type": "stream",
     "text": [
      "Fri Jan  6 18:11:43 2023\n"
     ]
    }
   ],
   "source": [
    "print(time.ctime())"
   ]
  }
 ],
 "metadata": {
  "kernelspec": {
   "display_name": "Python 3 (ipykernel)",
   "language": "python",
   "name": "python3"
  },
  "language_info": {
   "codemirror_mode": {
    "name": "ipython",
    "version": 3
   },
   "file_extension": ".py",
   "mimetype": "text/x-python",
   "name": "python",
   "nbconvert_exporter": "python",
   "pygments_lexer": "ipython3",
   "version": "3.9.12"
  }
 },
 "nbformat": 4,
 "nbformat_minor": 5
}
